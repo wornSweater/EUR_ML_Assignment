{
 "cells": [
  {
   "cell_type": "code",
   "execution_count": 77,
   "id": "initial_id",
   "metadata": {
    "ExecuteTime": {
     "end_time": "2025-02-21T15:46:43.462277Z",
     "start_time": "2025-02-21T15:46:43.387139Z"
    },
    "collapsed": true,
    "jupyter": {
     "outputs_hidden": true
    }
   },
   "outputs": [],
   "source": [
    "import pandas as pd\n",
    "import numpy as np\n",
    "\n",
    "# read the files\n",
    "df = pd.read_excel('Copy of split_datasets(1).xlsx')"
   ]
  },
  {
   "cell_type": "code",
   "execution_count": 78,
   "id": "6f0da6b0eca2e73c",
   "metadata": {
    "ExecuteTime": {
     "end_time": "2025-02-21T15:46:43.478235Z",
     "start_time": "2025-02-21T15:46:43.464274Z"
    }
   },
   "outputs": [],
   "source": [
    "# set X and y as the train and target\n",
    "y_orgi = df['default']\n",
    "X_orgi = df.drop(columns=['default'], axis=1)"
   ]
  },
  {
   "cell_type": "code",
   "execution_count": 79,
   "id": "c42433e92cb1de42",
   "metadata": {
    "ExecuteTime": {
     "end_time": "2025-02-21T15:46:43.494226Z",
     "start_time": "2025-02-21T15:46:43.480228Z"
    }
   },
   "outputs": [],
   "source": [
    "# set seed\n",
    "seed = 42"
   ]
  },
  {
   "cell_type": "code",
   "execution_count": 80,
   "id": "c018749dd9b997e",
   "metadata": {
    "ExecuteTime": {
     "end_time": "2025-02-21T15:46:43.509159Z",
     "start_time": "2025-02-21T15:46:43.496214Z"
    }
   },
   "outputs": [],
   "source": [
    "# split the training data into training and validation\n",
    "from sklearn.model_selection import train_test_split\n",
    "X_train, X_test, y_train, y_test = train_test_split(X_orgi, y_orgi, test_size=0.3, random_state=seed)"
   ]
  },
  {
   "cell_type": "code",
   "execution_count": 81,
   "id": "c5327c8775a0792a",
   "metadata": {
    "ExecuteTime": {
     "end_time": "2025-02-21T15:46:43.525113Z",
     "start_time": "2025-02-21T15:46:43.511145Z"
    }
   },
   "outputs": [],
   "source": [
    "X_train_continuous = X_train[['age', 'log_income', 'log_debtinc', 'log_creddebt', 'log_othdebt']]\n",
    "X_train_discrete = X_train[['ed', 'address']]\n",
    "\n",
    "X_test_continuous = X_test[['age', 'log_income', 'log_debtinc', 'log_creddebt', 'log_othdebt']]\n",
    "X_test_discrete = X_test[['ed', 'address']]"
   ]
  },
  {
   "cell_type": "code",
   "execution_count": 82,
   "id": "54c9c71d98633af1",
   "metadata": {
    "ExecuteTime": {
     "end_time": "2025-02-21T15:46:43.541071Z",
     "start_time": "2025-02-21T15:46:43.527103Z"
    }
   },
   "outputs": [
    {
     "data": {
      "text/plain": [
       "array([[-0.91474096,  0.93666804,  1.08548917,  2.22427816,  1.19586455],\n",
       "       [-0.91474096, -0.04234708, -0.31445499, -0.13769812, -0.44120649],\n",
       "       [-0.51052257, -0.10053665,  1.71081204,  0.19487173,  1.81827724],\n",
       "       ...,\n",
       "       [ 0.56739313,  1.16918876,  0.73534529,  2.38824784,  0.66729171],\n",
       "       [-0.51052257, -1.26868561,  0.40118701, -1.008998  , -0.19771036],\n",
       "       [-0.10630419, -0.35178907,  0.77943902,  0.36746568,  0.35065293]])"
      ]
     },
     "execution_count": 82,
     "metadata": {},
     "output_type": "execute_result"
    }
   ],
   "source": [
    "# preform standardization on continuous features\n",
    "from sklearn.preprocessing import StandardScaler\n",
    "scaler_train = StandardScaler()\n",
    "scalar_test = StandardScaler()\n",
    "X_train_continuous_st = scaler_train.fit_transform(X_train_continuous)\n",
    "X_test_continuous_st = scalar_test.fit_transform(X_test_continuous)\n",
    "X_train_continuous_st"
   ]
  },
  {
   "cell_type": "code",
   "execution_count": 83,
   "id": "508f88e484967c45",
   "metadata": {
    "ExecuteTime": {
     "end_time": "2025-02-21T15:46:43.557023Z",
     "start_time": "2025-02-21T15:46:43.544058Z"
    }
   },
   "outputs": [],
   "source": [
    "# perform PCA on the train set, and make test set align with them\n",
    "from sklearn.decomposition import PCA\n",
    "X_train_continuous_st_copy = X_train_continuous_st.copy()\n",
    "pca = PCA(n_components=2)\n",
    "X_train_continuous_st_copy_pca = pca.fit_transform(X_train_continuous_st_copy)\n",
    "\n",
    "X_test_continuous_st_copy = X_test_continuous_st.copy()\n",
    "pca = PCA(n_components=2)\n",
    "X_test_continuous_st_copy_pca = pca.fit_transform(X_test_continuous_st_copy)\n"
   ]
  },
  {
   "cell_type": "code",
   "execution_count": 84,
   "id": "7604a45623205dec",
   "metadata": {
    "ExecuteTime": {
     "end_time": "2025-02-21T15:46:43.572981Z",
     "start_time": "2025-02-21T15:46:43.560016Z"
    }
   },
   "outputs": [],
   "source": [
    "# combine the data together\n",
    "X_train = np.hstack((X_train_discrete, X_train_continuous_st_copy_pca))\n",
    "X_test = np.hstack((X_test_discrete, X_test_continuous_st_copy_pca))"
   ]
  },
  {
   "cell_type": "code",
   "execution_count": 85,
   "id": "1c477378b1d0c09c",
   "metadata": {
    "ExecuteTime": {
     "end_time": "2025-02-21T15:46:43.619960Z",
     "start_time": "2025-02-21T15:46:43.610880Z"
    }
   },
   "outputs": [],
   "source": [
    "from sklearn.linear_model import SGDClassifier\n",
    "from sklearn.svm import LinearSVC\n",
    "from sklearn.ensemble import RandomForestClassifier\n",
    "from sklearn.model_selection import GridSearchCV"
   ]
  },
  {
   "cell_type": "code",
   "execution_count": 86,
   "id": "73336041b4da54a7",
   "metadata": {
    "ExecuteTime": {
     "end_time": "2025-02-21T15:46:43.651384Z",
     "start_time": "2025-02-21T15:46:43.634433Z"
    }
   },
   "outputs": [],
   "source": [
    "# set the training data\n",
    "\n",
    "X = X_train\n",
    "y = y_train"
   ]
  },
  {
   "cell_type": "code",
   "execution_count": 87,
   "id": "e71e9a66be2bc35b",
   "metadata": {
    "ExecuteTime": {
     "end_time": "2025-02-21T15:46:45.014507Z",
     "start_time": "2025-02-21T15:46:43.665347Z"
    }
   },
   "outputs": [
    {
     "name": "stdout",
     "output_type": "stream",
     "text": [
      "The best F1 score: 0.5315554958988561, the std: 0.061370197198731234\n",
      "The corresponding acc score: 0.7305658381808566, the std: 0.07711830977587317\n",
      "The best estimator params: {'alpha': 0.01, 'eta0': 0.01, 'learning_rate': 'constant', 'penalty': 'elasticnet'}\n"
     ]
    }
   ],
   "source": [
    "# logistic regression\n",
    "\n",
    "parameters = {\n",
    "    'penalty': ['l1', 'l2', 'elasticnet'],\n",
    "    'alpha': [0.001, 0.01, 0.1],\n",
    "    'learning_rate': ['constant', 'optimal', 'adaptive', 'invscaling'],\n",
    "    'eta0': [0.001, 0.01, 0.1],\n",
    "}\n",
    "\n",
    "model = SGDClassifier(\n",
    "    loss='log_loss',\n",
    "    class_weight='balanced',\n",
    "    random_state=seed,\n",
    ")\n",
    "\n",
    "cv = GridSearchCV(model, parameters, n_jobs=-1, cv=5, scoring={'F1': 'f1', 'Acc': 'accuracy'}, refit='F1')\n",
    "cv.fit(X, y)\n",
    "\n",
    "print(f\"The best F1 score: {cv.best_score_}, the std: {cv.cv_results_['std_test_F1'][cv.best_index_]}\")\n",
    "print(f\"The corresponding acc score: {cv.cv_results_['mean_test_Acc'][cv.best_index_]}, the std: {cv.cv_results_['std_test_Acc'][cv.best_index_]}\")\n",
    "print(f\"The best estimator params: {cv.best_params_}\")\n"
   ]
  },
  {
   "cell_type": "code",
   "execution_count": 88,
   "id": "3899fa71409fa117",
   "metadata": {
    "ExecuteTime": {
     "end_time": "2025-02-21T15:46:45.030467Z",
     "start_time": "2025-02-21T15:46:45.016502Z"
    }
   },
   "outputs": [
    {
     "data": {
      "text/plain": [
       "0.44360902255639095"
      ]
     },
     "execution_count": 88,
     "metadata": {},
     "output_type": "execute_result"
    }
   ],
   "source": [
    "model = SGDClassifier(\n",
    "    loss='log_loss',\n",
    "    class_weight='balanced',\n",
    "    random_state=seed,\n",
    "    alpha=0.1,\n",
    "    eta0=0.01,\n",
    "    penalty=\"l2\",\n",
    "    learning_rate='adaptive',\n",
    ")\n",
    "\n",
    "model.fit(X, y)\n",
    "model.score(X_test, y_test)"
   ]
  },
  {
   "cell_type": "code",
   "execution_count": 89,
   "id": "8ea4384111bec3cc",
   "metadata": {
    "ExecuteTime": {
     "end_time": "2025-02-21T15:46:45.250677Z",
     "start_time": "2025-02-21T15:46:45.032458Z"
    }
   },
   "outputs": [
    {
     "name": "stdout",
     "output_type": "stream",
     "text": [
      "The best F1 score: 0.7594923320994182, the std: 0.1555689088943435\n",
      "The corresponding acc score: 0.7594923320994182, the std: 0.07320464426310051\n",
      "The best estimator params: {'C': 0.001, 'loss': 'hinge', 'penalty': 'l2'}\n",
      "The acc of test set (final prediction) is 0.6165413533834586\n"
     ]
    },
    {
     "name": "stderr",
     "output_type": "stream",
     "text": [
      "C:\\Users\\55479\\PycharmProjects\\EUR_QF_ML_1\\venv\\lib\\site-packages\\sklearn\\model_selection\\_validation.py:425: FitFailedWarning: \n",
      "40 fits failed out of a total of 80.\n",
      "The score on these train-test partitions for these parameters will be set to nan.\n",
      "If these failures are not expected, you can try to debug them by setting error_score='raise'.\n",
      "\n",
      "Below are more details about the failures:\n",
      "--------------------------------------------------------------------------------\n",
      "20 fits failed with the following error:\n",
      "Traceback (most recent call last):\n",
      "  File \"C:\\Users\\55479\\PycharmProjects\\EUR_QF_ML_1\\venv\\lib\\site-packages\\sklearn\\model_selection\\_validation.py\", line 729, in _fit_and_score\n",
      "    estimator.fit(X_train, y_train, **fit_params)\n",
      "  File \"C:\\Users\\55479\\PycharmProjects\\EUR_QF_ML_1\\venv\\lib\\site-packages\\sklearn\\base.py\", line 1152, in wrapper\n",
      "    return fit_method(estimator, *args, **kwargs)\n",
      "  File \"C:\\Users\\55479\\PycharmProjects\\EUR_QF_ML_1\\venv\\lib\\site-packages\\sklearn\\svm\\_classes.py\", line 326, in fit\n",
      "    self.coef_, self.intercept_, n_iter_ = _fit_liblinear(\n",
      "  File \"C:\\Users\\55479\\PycharmProjects\\EUR_QF_ML_1\\venv\\lib\\site-packages\\sklearn\\svm\\_base.py\", line 1229, in _fit_liblinear\n",
      "    solver_type = _get_liblinear_solver_type(multi_class, penalty, loss, dual)\n",
      "  File \"C:\\Users\\55479\\PycharmProjects\\EUR_QF_ML_1\\venv\\lib\\site-packages\\sklearn\\svm\\_base.py\", line 1060, in _get_liblinear_solver_type\n",
      "    raise ValueError(\n",
      "ValueError: Unsupported set of arguments: The combination of penalty='l1' and loss='hinge' is not supported, Parameters: penalty='l1', loss='hinge', dual=True\n",
      "\n",
      "--------------------------------------------------------------------------------\n",
      "20 fits failed with the following error:\n",
      "Traceback (most recent call last):\n",
      "  File \"C:\\Users\\55479\\PycharmProjects\\EUR_QF_ML_1\\venv\\lib\\site-packages\\sklearn\\model_selection\\_validation.py\", line 729, in _fit_and_score\n",
      "    estimator.fit(X_train, y_train, **fit_params)\n",
      "  File \"C:\\Users\\55479\\PycharmProjects\\EUR_QF_ML_1\\venv\\lib\\site-packages\\sklearn\\base.py\", line 1152, in wrapper\n",
      "    return fit_method(estimator, *args, **kwargs)\n",
      "  File \"C:\\Users\\55479\\PycharmProjects\\EUR_QF_ML_1\\venv\\lib\\site-packages\\sklearn\\svm\\_classes.py\", line 326, in fit\n",
      "    self.coef_, self.intercept_, n_iter_ = _fit_liblinear(\n",
      "  File \"C:\\Users\\55479\\PycharmProjects\\EUR_QF_ML_1\\venv\\lib\\site-packages\\sklearn\\svm\\_base.py\", line 1229, in _fit_liblinear\n",
      "    solver_type = _get_liblinear_solver_type(multi_class, penalty, loss, dual)\n",
      "  File \"C:\\Users\\55479\\PycharmProjects\\EUR_QF_ML_1\\venv\\lib\\site-packages\\sklearn\\svm\\_base.py\", line 1060, in _get_liblinear_solver_type\n",
      "    raise ValueError(\n",
      "ValueError: Unsupported set of arguments: The combination of penalty='l1' and loss='squared_hinge' are not supported when dual=True, Parameters: penalty='l1', loss='squared_hinge', dual=True\n",
      "\n",
      "  warnings.warn(some_fits_failed_message, FitFailedWarning)\n",
      "C:\\Users\\55479\\PycharmProjects\\EUR_QF_ML_1\\venv\\lib\\site-packages\\sklearn\\model_selection\\_search.py:979: UserWarning: One or more of the test scores are non-finite: [       nan 0.75949233        nan 0.6882073         nan 0.67858276\n",
      "        nan 0.65584347        nan 0.67202538        nan 0.64933897\n",
      "        nan 0.62659968        nan 0.63950291]\n",
      "  warnings.warn(\n",
      "C:\\Users\\55479\\PycharmProjects\\EUR_QF_ML_1\\venv\\lib\\site-packages\\sklearn\\model_selection\\_search.py:979: UserWarning: One or more of the test scores are non-finite: [       nan 0.47600603        nan 0.50909656        nan 0.51493284\n",
      "        nan 0.49395277        nan 0.50653999        nan 0.48993786\n",
      "        nan 0.47851135        nan 0.48292869]\n",
      "  warnings.warn(\n",
      "C:\\Users\\55479\\PycharmProjects\\EUR_QF_ML_1\\venv\\lib\\site-packages\\sklearn\\svm\\_classes.py:32: FutureWarning: The default value of `dual` will change from `True` to `'auto'` in 1.5. Set the value of `dual` explicitly to suppress the warning.\n",
      "  warnings.warn(\n"
     ]
    }
   ],
   "source": [
    "# linear SVC\n",
    "\n",
    "parameters = {\n",
    "    'penalty': ['l1', 'l2'],\n",
    "    'loss': ['hinge', 'squared_hinge'],\n",
    "    'C': [0.001, 0.01, 0.1, 1],\n",
    "}\n",
    "\n",
    "model = LinearSVC(\n",
    "    class_weight='balanced',\n",
    "    random_state=seed,\n",
    ")\n",
    "\n",
    "cv = GridSearchCV(model, parameters, n_jobs=-1, cv=5, scoring={'Acc': 'accuracy', 'F1': 'f1'}, refit='Acc')\n",
    "cv.fit(X, y)\n",
    "\n",
    "print(f\"The best F1 score: {cv.best_score_}, the std: {cv.cv_results_['std_test_F1'][cv.best_index_]}\")\n",
    "print(f\"The corresponding acc score: {cv.cv_results_['mean_test_Acc'][cv.best_index_]}, the std: {cv.cv_results_['std_test_Acc'][cv.best_index_]}\")\n",
    "print(f\"The best estimator params: {cv.best_params_}\")\n",
    "print(f\"The acc of test set (final prediction) is {cv.score(X_test, y_test)}\")\n"
   ]
  },
  {
   "cell_type": "code",
   "execution_count": 90,
   "id": "599e312e683039c",
   "metadata": {
    "ExecuteTime": {
     "end_time": "2025-02-21T15:46:45.281627Z",
     "start_time": "2025-02-21T15:46:45.252671Z"
    }
   },
   "outputs": [
    {
     "name": "stderr",
     "output_type": "stream",
     "text": [
      "C:\\Users\\55479\\PycharmProjects\\EUR_QF_ML_1\\venv\\lib\\site-packages\\sklearn\\svm\\_classes.py:32: FutureWarning: The default value of `dual` will change from `True` to `'auto'` in 1.5. Set the value of `dual` explicitly to suppress the warning.\n",
      "  warnings.warn(\n"
     ]
    },
    {
     "data": {
      "text/plain": [
       "0.7443609022556391"
      ]
     },
     "execution_count": 90,
     "metadata": {},
     "output_type": "execute_result"
    }
   ],
   "source": [
    "model = LinearSVC(\n",
    "    random_state=seed,\n",
    "    C=0.1,\n",
    "    loss=\"hinge\",\n",
    ")\n",
    "\n",
    "model.fit(X, y)\n",
    "model.score(X_test, y_test)"
   ]
  },
  {
   "cell_type": "code",
   "execution_count": 91,
   "id": "54e125cdb8a1f27e",
   "metadata": {
    "ExecuteTime": {
     "end_time": "2025-02-21T15:46:46.208287Z",
     "start_time": "2025-02-21T15:46:45.282592Z"
    }
   },
   "outputs": [
    {
     "name": "stdout",
     "output_type": "stream",
     "text": [
      "The best F1 score: 0.49804195804195805, the std: 0.1581039129995314\n",
      "The corresponding acc score: 0.7990322580645162, the std: 0.05292780703509474\n",
      "The best estimator params: {}\n"
     ]
    }
   ],
   "source": [
    "# random forest\n",
    "parameters = {\n",
    "}\n",
    "\n",
    "model = RandomForestClassifier(\n",
    "    bootstrap=True,\n",
    "    criterion='entropy',\n",
    "    n_estimators=100,\n",
    "    class_weight='balanced',\n",
    "    random_state=seed,\n",
    ")\n",
    "\n",
    "cv = GridSearchCV(model, parameters, n_jobs=-1, cv=10, scoring={'F1': 'f1', 'Acc': 'accuracy'}, refit='F1')\n",
    "cv.fit(X, y)\n",
    "\n",
    "print(f\"The best F1 score: {cv.best_score_}, the std: {cv.cv_results_['std_test_F1'][cv.best_index_]}\")\n",
    "print(f\"The corresponding acc score: {cv.cv_results_['mean_test_Acc'][cv.best_index_]}, the std: {cv.cv_results_['std_test_Acc'][cv.best_index_]}\")\n",
    "print(f\"The best estimator params: {cv.best_params_}\")"
   ]
  },
  {
   "cell_type": "code",
   "execution_count": 92,
   "id": "8efd6b4ef7f2fc41",
   "metadata": {
    "ExecuteTime": {
     "end_time": "2025-02-21T15:46:46.412980Z",
     "start_time": "2025-02-21T15:46:46.209627Z"
    }
   },
   "outputs": [
    {
     "data": {
      "text/plain": [
       "0.6917293233082706"
      ]
     },
     "execution_count": 92,
     "metadata": {},
     "output_type": "execute_result"
    }
   ],
   "source": [
    "model = RandomForestClassifier(\n",
    "    bootstrap=True,\n",
    "    criterion='entropy',\n",
    "    n_estimators=100,\n",
    "    class_weight='balanced',\n",
    "    random_state=seed,\n",
    ")\n",
    "model.fit(X, y)\n",
    "model.score(X_test, y_test)"
   ]
  },
  {
   "cell_type": "code",
   "execution_count": 92,
   "id": "a8c1f19dfabd6c0",
   "metadata": {
    "ExecuteTime": {
     "end_time": "2025-02-21T15:46:46.428937Z",
     "start_time": "2025-02-21T15:46:46.414976Z"
    }
   },
   "outputs": [],
   "source": []
  }
 ],
 "metadata": {
  "kernelspec": {
   "display_name": "Python 3 (ipykernel)",
   "language": "python",
   "name": "python3"
  },
  "language_info": {
   "codemirror_mode": {
    "name": "ipython",
    "version": 3
   },
   "file_extension": ".py",
   "mimetype": "text/x-python",
   "name": "python",
   "nbconvert_exporter": "python",
   "pygments_lexer": "ipython3",
   "version": "3.8.10"
  }
 },
 "nbformat": 4,
 "nbformat_minor": 5
}
